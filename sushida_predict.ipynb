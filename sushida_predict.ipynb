{
 "cells": [
  {
   "cell_type": "markdown",
   "metadata": {},
   "source": [
    "# ***寿司打の成績予測（株価予測へ）***\n",
    "\n",
    "---\n",
    "\n",
    "目的 : scikit learn の勉強\n",
    "\n",
    "寿司打の次の成績を scikit-learn で予測\n",
    "\n",
    "決定木を使用\n",
    "\n",
    "データ数 : 50 (2017.8.21 - 2017.8.23)\n",
    "\n",
    "まずは、次の成績が前回と比べて上がるか下がるかの予測。（株価の予測を参考）"
   ]
  },
  {
   "cell_type": "markdown",
   "metadata": {},
   "source": [
    "## ライブラリのインポート"
   ]
  },
  {
   "cell_type": "code",
   "execution_count": 2,
   "metadata": {
    "collapsed": false
   },
   "outputs": [],
   "source": [
    "from sklearn import tree, linear_model, svm\n",
    "from sklearn.neural_network import MLPClassifier\n",
    "import pandas as pd\n",
    "import numpy as np\n",
    "import matplotlib.pyplot as plt\n",
    "%matplotlib inline"
   ]
  },
  {
   "cell_type": "markdown",
   "metadata": {},
   "source": [
    "## csvファイルの読み込み"
   ]
  },
  {
   "cell_type": "code",
   "execution_count": 3,
   "metadata": {
    "collapsed": false
   },
   "outputs": [],
   "source": [
    "df = pd.read_csv(\"sushida_data_50.csv\")\n",
    "#df"
   ]
  },
  {
   "cell_type": "code",
   "execution_count": 4,
   "metadata": {
    "collapsed": false
   },
   "outputs": [
    {
     "data": {
      "text/plain": [
       "[<matplotlib.lines.Line2D at 0x1d0812ae208>]"
      ]
     },
     "execution_count": 4,
     "metadata": {},
     "output_type": "execute_result"
    },
    {
     "data": {
      "image/png": "[encoded data removed]",
      "text/plain": [
       "<matplotlib.figure.Figure at 0x1d0812ae2e8>"
      ]
     },
     "metadata": {},
     "output_type": "display_data"
    }
   ],
   "source": [
    "plt.plot(np.arange(len(df.A)), df.A)\n",
    "plt.plot([0, len(df.A)], [10000, 10000], color=\"red\")"
   ]
  },
  {
   "cell_type": "markdown",
   "metadata": {},
   "source": [
    "## 学習データ、テストデータ、作成"
   ]
  },
  {
   "cell_type": "code",
   "execution_count": 5,
   "metadata": {
    "collapsed": false
   },
   "outputs": [
    {
     "name": "stdout",
     "output_type": "stream",
     "text": [
      "[23.991935483870975, -9.1056910569105689, 1.0733452593917781, -3.3628318584070782, -5.6776556776556797, 0.0, 8.5436893203883599, -19.141323792486588, 15.265486725663724, 10.940499040307095, -7.6124567474048384, 23.220973782771527, -9.5744680851063801, -28.235294117647058, 26.463700234192046, -5.7407407407407458, 14.734774066797641, 1.0273972602739656, -10.677966101694913, 1.3282732447817747, 12.921348314606739, -11.442786069651746, 8.2397003745318322, -2.249134948096887, -2.12389380530974, 4.3399638336347302, -10.745233968804158, -3.6893203883495151, 0.0, 23.991935483870975, -6.0162601626016272, -9.8615916955017262, -5.9500959692898263, 17.959183673469383, -6.5743944636678204, 2.4074074074074137, 1.0849909584086825, -11.270125223613592, -6.4516129032258114]\n",
      "[3.8306451612903247, 17.087378640776695, -2.1558872305140975, -10.508474576271187, 16.287878787878785, -9.934853420195445, 9.0415913200723388, -6.3018242122719776, 4.4247787610619538]\n"
     ]
    }
   ],
   "source": [
    "div = int(len(df.A) * 0.8)\n",
    "a = df.A[:div].pct_change()\n",
    "b = df.A[div:].pct_change()\n",
    "train_X = []\n",
    "test_X = []\n",
    "for i in range(1, div):\n",
    "    train_X.append(a[i] * 100)\n",
    "for i in range(div+1, len(df.A)):\n",
    "    test_X.append(b[i] * 100)\n",
    "print(train_X)\n",
    "print(test_X)"
   ]
  },
  {
   "cell_type": "code",
   "execution_count": 6,
   "metadata": {
    "collapsed": false
   },
   "outputs": [
    {
     "name": "stdout",
     "output_type": "stream",
     "text": [
      "[0, 1, 0, 0, 1, 1, 0, 1, 0, 0, 1, 0, 0, 1, 0, 1, 0, 0, 1, 1, 0, 1, 0, 1, 1, 0, 1, 1, 1, 0, 0, 1, 1, 0, 1, 0, 0, 1]\n",
      "[1, 0, 0, 1, 0, 1, 0, 1]\n"
     ]
    }
   ],
   "source": [
    "train_Y = []\n",
    "test_Y = []\n",
    "for i in range(len(train_X)-1):\n",
    "    if train_X[i] > train_X[i+1]:\n",
    "        train_Y.append(0)\n",
    "    else:\n",
    "        train_Y.append(1)\n",
    "for i in range(len(test_X)-1):\n",
    "    if test_X[i] > test_X[i+1]:\n",
    "        test_Y.append(0)\n",
    "    else:\n",
    "        test_Y.append(1)\n",
    "print(train_Y)\n",
    "print(test_Y)"
   ]
  },
  {
   "cell_type": "code",
   "execution_count": 7,
   "metadata": {
    "collapsed": false
   },
   "outputs": [
    {
     "name": "stdout",
     "output_type": "stream",
     "text": [
      "38\n",
      "38\n",
      "8\n",
      "8\n"
     ]
    }
   ],
   "source": [
    "train_X.pop(0)\n",
    "test_X.pop(0)\n",
    "train_X = np.array(train_X)\n",
    "train_Y = np.array(train_Y)\n",
    "test_X = np.array(test_X)\n",
    "test_Y = np.array(test_Y)\n",
    "print(len(train_X))\n",
    "print(len(train_Y))\n",
    "print(len(test_X))\n",
    "print(len(test_Y))"
   ]
  },
  {
   "cell_type": "markdown",
   "metadata": {},
   "source": [
    "## 1. 決定木で学習"
   ]
  },
  {
   "cell_type": "code",
   "execution_count": 8,
   "metadata": {
    "collapsed": false
   },
   "outputs": [],
   "source": [
    "clf = tree.DecisionTreeClassifier()\n",
    "clf = clf.fit(train_X.reshape(-1, 1), train_Y)"
   ]
  },
  {
   "cell_type": "markdown",
   "metadata": {},
   "source": [
    "## テストデータで予測"
   ]
  },
  {
   "cell_type": "code",
   "execution_count": 9,
   "metadata": {
    "collapsed": false
   },
   "outputs": [
    {
     "data": {
      "text/plain": [
       "array([1, 1, 0, 1, 0, 1, 1, 1])"
      ]
     },
     "execution_count": 9,
     "metadata": {},
     "output_type": "execute_result"
    }
   ],
   "source": [
    "clf.predict(test_X.reshape(-1, 1))"
   ]
  },
  {
   "cell_type": "markdown",
   "metadata": {},
   "source": [
    "## 作成した分類器の評価"
   ]
  },
  {
   "cell_type": "code",
   "execution_count": 10,
   "metadata": {
    "collapsed": false
   },
   "outputs": [
    {
     "name": "stdout",
     "output_type": "stream",
     "text": [
      "0.75\n"
     ]
    }
   ],
   "source": [
    "print(clf.score(test_X.reshape(-1, 1), test_Y))"
   ]
  },
  {
   "cell_type": "markdown",
   "metadata": {},
   "source": [
    "## ファイル出力"
   ]
  },
  {
   "cell_type": "code",
   "execution_count": 11,
   "metadata": {
    "collapsed": true
   },
   "outputs": [],
   "source": [
    "with open('graph.dot', 'w') as f:\n",
    "        f = tree.export_graphviz(clf, out_file=f)"
   ]
  },
  {
   "cell_type": "markdown",
   "metadata": {},
   "source": [
    "決定木を可視化してくれるサイト\n",
    "\n",
    "http://www.webgraphviz.com/"
   ]
  },
  {
   "cell_type": "markdown",
   "metadata": {},
   "source": [
    "## 2. 確率的勾配降下法で学習"
   ]
  },
  {
   "cell_type": "code",
   "execution_count": 12,
   "metadata": {
    "collapsed": true
   },
   "outputs": [],
   "source": [
    "clf = linear_model.SGDClassifier()\n",
    "clf = clf.fit(train_X.reshape(-1, 1), train_Y)"
   ]
  },
  {
   "cell_type": "code",
   "execution_count": 13,
   "metadata": {
    "collapsed": false
   },
   "outputs": [
    {
     "data": {
      "text/plain": [
       "array([1, 0, 0, 1, 0, 1, 0, 1])"
      ]
     },
     "execution_count": 13,
     "metadata": {},
     "output_type": "execute_result"
    }
   ],
   "source": [
    "clf.predict(test_X.reshape(-1, 1))"
   ]
  },
  {
   "cell_type": "code",
   "execution_count": 14,
   "metadata": {
    "collapsed": false
   },
   "outputs": [
    {
     "name": "stdout",
     "output_type": "stream",
     "text": [
      "1.0\n"
     ]
    }
   ],
   "source": [
    "print(clf.score(test_X.reshape(-1, 1), test_Y))"
   ]
  },
  {
   "cell_type": "markdown",
   "metadata": {},
   "source": [
    "## 3. サポートベクタマシン"
   ]
  },
  {
   "cell_type": "code",
   "execution_count": 15,
   "metadata": {
    "collapsed": true
   },
   "outputs": [],
   "source": [
    "clf = svm.SVC()\n",
    "clf = clf.fit(train_X.reshape(-1, 1), train_Y)"
   ]
  },
  {
   "cell_type": "code",
   "execution_count": 16,
   "metadata": {
    "collapsed": false
   },
   "outputs": [
    {
     "data": {
      "text/plain": [
       "array([1, 1, 0, 1, 0, 1, 0, 1])"
      ]
     },
     "execution_count": 16,
     "metadata": {},
     "output_type": "execute_result"
    }
   ],
   "source": [
    "clf.predict(test_X.reshape(-1, 1))"
   ]
  },
  {
   "cell_type": "code",
   "execution_count": 17,
   "metadata": {
    "collapsed": false
   },
   "outputs": [
    {
     "name": "stdout",
     "output_type": "stream",
     "text": [
      "0.875\n"
     ]
    }
   ],
   "source": [
    "print(clf.score(test_X.reshape(-1, 1), test_Y))"
   ]
  },
  {
   "cell_type": "markdown",
   "metadata": {},
   "source": [
    "## 4. ニューラルネットワーク"
   ]
  },
  {
   "cell_type": "code",
   "execution_count": 18,
   "metadata": {
    "collapsed": true
   },
   "outputs": [],
   "source": [
    "clf = MLPClassifier(solver=\"sgd\",random_state=0,max_iter=10000)\n",
    "clf = clf.fit(train_X.reshape(-1, 1), train_Y)"
   ]
  },
  {
   "cell_type": "code",
   "execution_count": 19,
   "metadata": {
    "collapsed": false
   },
   "outputs": [
    {
     "data": {
      "text/plain": [
       "array([1, 0, 0, 1, 0, 1, 0, 1])"
      ]
     },
     "execution_count": 19,
     "metadata": {},
     "output_type": "execute_result"
    }
   ],
   "source": [
    "clf.predict(test_X.reshape(-1, 1))"
   ]
  },
  {
   "cell_type": "code",
   "execution_count": 20,
   "metadata": {
    "collapsed": false
   },
   "outputs": [
    {
     "name": "stdout",
     "output_type": "stream",
     "text": [
      "1.0\n"
     ]
    }
   ],
   "source": [
    "print(clf.score(test_X.reshape(-1, 1), test_Y))"
   ]
  },
  {
   "cell_type": "markdown",
   "metadata": {},
   "source": [
    "## 5. 単回帰分析"
   ]
  },
  {
   "cell_type": "code",
   "execution_count": 21,
   "metadata": {
    "collapsed": false
   },
   "outputs": [
    {
     "data": {
      "text/plain": [
       "array([ 0.96482987,  0.44292871,  0.21639621,  0.94314645,  0.23195352,\n",
       "        0.74661817,  0.33048577,  0.62140451])"
      ]
     },
     "execution_count": 21,
     "metadata": {},
     "output_type": "execute_result"
    }
   ],
   "source": [
    "clf = linear_model.LinearRegression()\n",
    "clf = clf.fit(train_X.reshape(-1, 1), train_Y)\n",
    "clf.predict(test_X.reshape(-1, 1))"
   ]
  },
  {
   "cell_type": "code",
   "execution_count": 22,
   "metadata": {
    "collapsed": false
   },
   "outputs": [
    {
     "name": "stdout",
     "output_type": "stream",
     "text": [
      "回帰係数 : \t0.0271212366995\n",
      "切片 : \t\t0.501399033861\n",
      "決定係数 : \t0.690978700379\n"
     ]
    }
   ],
   "source": [
    "[a] = clf.coef_\n",
    "print(\"回帰係数 : \", end=\"\\t\")\n",
    "print(a)\n",
    "b = clf.intercept_\n",
    "print(\"切片 : \", end=\"\\t\\t\")\n",
    "print(b)\n",
    "print(\"決定係数 : \", end=\"\\t\")\n",
    "print(clf.score(test_X.reshape(-1, 1), test_Y))"
   ]
  },
  {
   "cell_type": "markdown",
   "metadata": {},
   "source": [
    "### 式 : Y = aX + b"
   ]
  },
  {
   "cell_type": "markdown",
   "metadata": {},
   "source": [
    "---\n",
    "# ***こっちが正しいかも***"
   ]
  },
  {
   "cell_type": "code",
   "execution_count": 40,
   "metadata": {
    "collapsed": true
   },
   "outputs": [],
   "source": [
    "def train_func(array):\n",
    "    train_X = []\n",
    "    train_Y = []\n",
    "    for i in range(10, 30):\n",
    "        s = i - 10\n",
    "        feature = array[s:i]\n",
    "        if feature[-1] < array[i]:\n",
    "            train_Y.append(1)\n",
    "        else:\n",
    "            train_Y.append(0)\n",
    "        train_X.append(feature)\n",
    "        #print(feature)\n",
    "    return np.array(train_X), np.array(train_Y)"
   ]
  },
  {
   "cell_type": "code",
   "execution_count": 41,
   "metadata": {
    "collapsed": false
   },
   "outputs": [
    {
     "data": {
      "text/plain": [
       "(array([[ 9920, 12300, 11180, 11300, 10920, 10300, 10300, 11180,  9040,\n",
       "         10420],\n",
       "        [12300, 11180, 11300, 10920, 10300, 10300, 11180,  9040, 10420,\n",
       "         11560],\n",
       "        [11180, 11300, 10920, 10300, 10300, 11180,  9040, 10420, 11560,\n",
       "         10680],\n",
       "        [11300, 10920, 10300, 10300, 11180,  9040, 10420, 11560, 10680,\n",
       "         13160],\n",
       "        [10920, 10300, 10300, 11180,  9040, 10420, 11560, 10680, 13160,\n",
       "         11900],\n",
       "        [10300, 10300, 11180,  9040, 10420, 11560, 10680, 13160, 11900,\n",
       "          8540],\n",
       "        [10300, 11180,  9040, 10420, 11560, 10680, 13160, 11900,  8540,\n",
       "         10800],\n",
       "        [11180,  9040, 10420, 11560, 10680, 13160, 11900,  8540, 10800,\n",
       "         10180],\n",
       "        [ 9040, 10420, 11560, 10680, 13160, 11900,  8540, 10800, 10180,\n",
       "         11680],\n",
       "        [10420, 11560, 10680, 13160, 11900,  8540, 10800, 10180, 11680,\n",
       "         11800],\n",
       "        [11560, 10680, 13160, 11900,  8540, 10800, 10180, 11680, 11800,\n",
       "         10540],\n",
       "        [10680, 13160, 11900,  8540, 10800, 10180, 11680, 11800, 10540,\n",
       "         10680],\n",
       "        [13160, 11900,  8540, 10800, 10180, 11680, 11800, 10540, 10680,\n",
       "         12060],\n",
       "        [11900,  8540, 10800, 10180, 11680, 11800, 10540, 10680, 12060,\n",
       "         10680],\n",
       "        [ 8540, 10800, 10180, 11680, 11800, 10540, 10680, 12060, 10680,\n",
       "         11560],\n",
       "        [10800, 10180, 11680, 11800, 10540, 10680, 12060, 10680, 11560,\n",
       "         11300],\n",
       "        [10180, 11680, 11800, 10540, 10680, 12060, 10680, 11560, 11300,\n",
       "         11060],\n",
       "        [11680, 11800, 10540, 10680, 12060, 10680, 11560, 11300, 11060,\n",
       "         11540],\n",
       "        [11800, 10540, 10680, 12060, 10680, 11560, 11300, 11060, 11540,\n",
       "         10300],\n",
       "        [10540, 10680, 12060, 10680, 11560, 11300, 11060, 11540, 10300,\n",
       "          9920]], dtype=int64),\n",
       " array([1, 0, 1, 0, 0, 1, 0, 1, 1, 0, 1, 1, 0, 1, 0, 0, 1, 0, 0, 0]))"
      ]
     },
     "execution_count": 41,
     "metadata": {},
     "output_type": "execute_result"
    }
   ],
   "source": [
    "train_func(np.array(df.A))"
   ]
  },
  {
   "cell_type": "code",
   "execution_count": null,
   "metadata": {
    "collapsed": true
   },
   "outputs": [],
   "source": []
  },
  {
   "cell_type": "code",
   "execution_count": 43,
   "metadata": {
    "collapsed": false
   },
   "outputs": [],
   "source": [
    "clf = tree.DecisionTreeClassifier()\n",
    "clf = clf.fit(train_X.reshape(-1, 1), train_Y)"
   ]
  },
  {
   "cell_type": "code",
   "execution_count": 44,
   "metadata": {
    "collapsed": false
   },
   "outputs": [
    {
     "data": {
      "text/plain": [
       "array([1, 1, 0, 1, 0, 1, 1, 1])"
      ]
     },
     "execution_count": 44,
     "metadata": {},
     "output_type": "execute_result"
    }
   ],
   "source": [
    "clf.predict(test_X.reshape(-1, 1))"
   ]
  },
  {
   "cell_type": "code",
   "execution_count": 45,
   "metadata": {
    "collapsed": false
   },
   "outputs": [
    {
     "name": "stdout",
     "output_type": "stream",
     "text": [
      "0.75\n"
     ]
    }
   ],
   "source": [
    "print(clf.score(test_X.reshape(-1, 1), test_Y))"
   ]
  },
  {
   "cell_type": "code",
   "execution_count": null,
   "metadata": {
    "collapsed": true
   },
   "outputs": [],
   "source": []
  }
 ],
 "metadata": {
  "kernelspec": {
   "display_name": "Python 3",
   "language": "python",
   "name": "python3"
  },
  "language_info": {
   "codemirror_mode": {
    "name": "ipython",
    "version": 3
   },
   "file_extension": ".py",
   "mimetype": "text/x-python",
   "name": "python",
   "nbconvert_exporter": "python",
   "pygments_lexer": "ipython3",
   "version": "3.6.0"
  }
 },
 "nbformat": 4,
 "nbformat_minor": 2
}
