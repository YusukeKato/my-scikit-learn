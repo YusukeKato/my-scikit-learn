{
 "cells": [
  {
   "cell_type": "markdown",
   "metadata": {},
   "source": [
    "# 株価の予測\n",
    "\n",
    "1. データの収集\n",
    "2. データの前処理\n",
    "3. 学習データとテストデータの作成\n",
    "4. 学習\n",
    "5. 評価\n",
    "6. 予測"
   ]
  },
  {
   "cell_type": "markdown",
   "metadata": {},
   "source": [
    "# 1. データの収集"
   ]
  },
  {
   "cell_type": "code",
   "execution_count": 2,
   "metadata": {
    "collapsed": false
   },
   "outputs": [],
   "source": [
    "import pandas as pd\n",
    "df = pd.read_csv('kabuka.csv')"
   ]
  },
  {
   "cell_type": "code",
   "execution_count": 3,
   "metadata": {
    "collapsed": false
   },
   "outputs": [
    {
     "data": {
      "text/html": [
       "<div>\n",
       "<table border=\"1\" class=\"dataframe\">\n",
       "  <thead>\n",
       "    <tr style=\"text-align: right;\">\n",
       "      <th></th>\n",
       "      <th>day</th>\n",
       "      <th>value</th>\n",
       "    </tr>\n",
       "  </thead>\n",
       "  <tbody>\n",
       "    <tr>\n",
       "      <th>0</th>\n",
       "      <td>2017/1/4</td>\n",
       "      <td>7097</td>\n",
       "    </tr>\n",
       "    <tr>\n",
       "      <th>1</th>\n",
       "      <td>2017/1/5</td>\n",
       "      <td>7049</td>\n",
       "    </tr>\n",
       "    <tr>\n",
       "      <th>2</th>\n",
       "      <td>2017/1/6</td>\n",
       "      <td>6930</td>\n",
       "    </tr>\n",
       "  </tbody>\n",
       "</table>\n",
       "</div>"
      ],
      "text/plain": [
       "        day  value\n",
       "0  2017/1/4   7097\n",
       "1  2017/1/5   7049\n",
       "2  2017/1/6   6930"
      ]
     },
     "execution_count": 3,
     "metadata": {},
     "output_type": "execute_result"
    }
   ],
   "source": [
    "df.head(3)"
   ]
  },
  {
   "cell_type": "code",
   "execution_count": 4,
   "metadata": {
    "collapsed": false
   },
   "outputs": [
    {
     "data": {
      "text/html": [
       "<div>\n",
       "<table border=\"1\" class=\"dataframe\">\n",
       "  <thead>\n",
       "    <tr style=\"text-align: right;\">\n",
       "      <th></th>\n",
       "      <th>day</th>\n",
       "      <th>value</th>\n",
       "    </tr>\n",
       "  </thead>\n",
       "  <tbody>\n",
       "    <tr>\n",
       "      <th>160</th>\n",
       "      <td>2017/8/25</td>\n",
       "      <td>6158</td>\n",
       "    </tr>\n",
       "    <tr>\n",
       "      <th>161</th>\n",
       "      <td>2017/8/28</td>\n",
       "      <td>6126</td>\n",
       "    </tr>\n",
       "    <tr>\n",
       "      <th>162</th>\n",
       "      <td>2017/8/29</td>\n",
       "      <td>6090</td>\n",
       "    </tr>\n",
       "  </tbody>\n",
       "</table>\n",
       "</div>"
      ],
      "text/plain": [
       "           day  value\n",
       "160  2017/8/25   6158\n",
       "161  2017/8/28   6126\n",
       "162  2017/8/29   6090"
      ]
     },
     "execution_count": 4,
     "metadata": {},
     "output_type": "execute_result"
    }
   ],
   "source": [
    "df.tail(3)"
   ]
  },
  {
   "cell_type": "code",
   "execution_count": 5,
   "metadata": {
    "collapsed": false
   },
   "outputs": [
    {
     "data": {
      "text/plain": [
       "[<matplotlib.lines.Line2D at 0x1a0a3fd4390>]"
      ]
     },
     "execution_count": 5,
     "metadata": {},
     "output_type": "execute_result"
    },
    {
     "data": {
      "image/png": "[encoded data removed]",
      "text/plain": [
       "<matplotlib.figure.Figure at 0x1a0a8cc17b8>"
      ]
     },
     "metadata": {},
     "output_type": "display_data"
    }
   ],
   "source": [
    "import matplotlib.pyplot as plt\n",
    "import numpy as np\n",
    "%matplotlib inline\n",
    "plt.plot(np.arange(len(df['day'])), df['value'])"
   ]
  },
  {
   "cell_type": "markdown",
   "metadata": {},
   "source": [
    "# 2. データの前処理"
   ]
  },
  {
   "cell_type": "code",
   "execution_count": 10,
   "metadata": {
    "collapsed": false
   },
   "outputs": [
    {
     "name": "stdout",
     "output_type": "stream",
     "text": [
      "[7097 7049 6930 6861 6912 6845 6882 6827 6719 6736 6855 6801 6690 6579 6706\n",
      " 6764 6704 6705 6584 6546 6430 6445 6493 6346 6385 6255 6446 6491 6454 6491\n",
      " 6457 6400 6432 6478 6503 6498 6448 6406 6365 6466 6470 6455 6444 6430 6370\n",
      " 6434 6520 6530 6454 6475 6453 6377 6373 6161 6160 6229 6158 6218 6124 6111\n",
      " 6042 6046 5984 5909 5810 5832 5896 5910 5798 5731 5798 5759 5757 5695 5754\n",
      " 5855 5887 6000 6154 6117 6035 6042 6143 6235 6135 6081 6123 6047 6009 6093\n",
      " 6034 5930 5965 5997 6000 6001 5985 5941 5970 5981 5932 5989 6092 5968 5910\n",
      " 5902 5806 5838 5880 5874 5859 5794 5794 5787 5809 5840 5877 5860 5838 5876\n",
      " 5904 5910 5893 5950 6060 6154 6134 6157 6187 6263 6225 6210 6258 6180 6128\n",
      " 6150 6126 6079 6107 6186 6250 6228 6234 6300 6300 6225 6216 6339 6336 6236\n",
      " 6275 6180 6275 6194 6175 6125 6163 6138 6173 6107 6158 6126 6090]\n"
     ]
    }
   ],
   "source": [
    "data = df['value'].values\n",
    "print(data)"
   ]
  },
  {
   "cell_type": "code",
   "execution_count": 11,
   "metadata": {
    "collapsed": false
   },
   "outputs": [
    {
     "name": "stdout",
     "output_type": "stream",
     "text": [
      "train_data:\n",
      " [7097 7049 6930 6861 6912 6845 6882 6827 6719 6736 6855 6801 6690 6579 6706\n",
      " 6764 6704 6705 6584 6546 6430 6445 6493 6346 6385 6255 6446 6491 6454 6491\n",
      " 6457 6400 6432 6478 6503 6498 6448 6406 6365 6466 6470 6455 6444 6430 6370\n",
      " 6434 6520 6530 6454 6475 6453 6377 6373 6161 6160 6229 6158 6218 6124 6111\n",
      " 6042 6046 5984 5909 5810 5832 5896 5910 5798 5731 5798 5759 5757 5695 5754\n",
      " 5855 5887 6000 6154 6117 6035 6042 6143 6235 6135 6081 6123 6047 6009 6093\n",
      " 6034 5930 5965 5997 6000 6001 5985 5941 5970 5981 5932 5989 6092 5968 5910\n",
      " 5902 5806 5838 5880 5874 5859 5794 5794 5787 5809 5840 5877 5860 5838 5876\n",
      " 5904 5910 5893 5950 6060 6154 6134 6157 6187 6263]\n",
      "test_data:\n",
      " [6225 6210 6258 6180 6128 6150 6126 6079 6107 6186 6250 6228 6234 6300 6300\n",
      " 6225 6216 6339 6336 6236 6275 6180 6275 6194 6175 6125 6163 6138 6173 6107\n",
      " 6158 6126 6090]\n"
     ]
    }
   ],
   "source": [
    "div = int(len(data) * 0.8)\n",
    "train_data = data[:div]\n",
    "test_data = data[div:]\n",
    "print('train_data:\\n', train_data)\n",
    "print('test_data:\\n', test_data)"
   ]
  },
  {
   "cell_type": "markdown",
   "metadata": {},
   "source": [
    "# 3. 学習データとテストデータの作成"
   ]
  },
  {
   "cell_type": "code",
   "execution_count": 12,
   "metadata": {
    "collapsed": true
   },
   "outputs": [],
   "source": [
    "train_X = []\n",
    "train_y = []\n",
    "for i in range(len(train_data)-1):\n",
    "    train_X.append(train_data[i])\n",
    "    if train_data[i] < train_data[i+1]:\n",
    "        train_y.append(1)\n",
    "    else:\n",
    "        train_y.append(-1)"
   ]
  },
  {
   "cell_type": "code",
   "execution_count": 13,
   "metadata": {
    "collapsed": true
   },
   "outputs": [],
   "source": [
    "test_X = []\n",
    "test_y = []\n",
    "for j in range(len(test_data)-1):\n",
    "    test_X.append(test_data[j])\n",
    "    if test_data[j] < test_data[j+1]:\n",
    "        test_y.append(1)\n",
    "    else:\n",
    "        test_y.append(-1)"
   ]
  },
  {
   "cell_type": "code",
   "execution_count": 31,
   "metadata": {
    "collapsed": false
   },
   "outputs": [
    {
     "name": "stdout",
     "output_type": "stream",
     "text": [
      "len(train_X): 129\n",
      "len(test_X): 32\n",
      "len(train_y): 129\n",
      "len(test_y): 32\n",
      "train_X:\n",
      " [7097 7049 6930 6861 6912 6845 6882 6827 6719 6736 6855 6801 6690 6579 6706\n",
      " 6764 6704 6705 6584 6546 6430 6445 6493 6346 6385 6255 6446 6491 6454 6491\n",
      " 6457 6400 6432 6478 6503 6498 6448 6406 6365 6466 6470 6455 6444 6430 6370\n",
      " 6434 6520 6530 6454 6475 6453 6377 6373 6161 6160 6229 6158 6218 6124 6111\n",
      " 6042 6046 5984 5909 5810 5832 5896 5910 5798 5731 5798 5759 5757 5695 5754\n",
      " 5855 5887 6000 6154 6117 6035 6042 6143 6235 6135 6081 6123 6047 6009 6093\n",
      " 6034 5930 5965 5997 6000 6001 5985 5941 5970 5981 5932 5989 6092 5968 5910\n",
      " 5902 5806 5838 5880 5874 5859 5794 5794 5787 5809 5840 5877 5860 5838 5876\n",
      " 5904 5910 5893 5950 6060 6154 6134 6157 6187]\n",
      "train_y:\n",
      " [-1 -1 -1  1 -1  1 -1 -1  1  1 -1 -1 -1  1  1 -1  1 -1 -1 -1  1  1 -1  1 -1\n",
      "  1  1 -1  1 -1 -1  1  1  1 -1 -1 -1 -1  1  1 -1 -1 -1 -1  1  1  1 -1  1 -1\n",
      " -1 -1 -1 -1  1 -1  1 -1 -1 -1  1 -1 -1 -1  1  1  1 -1 -1  1 -1 -1 -1  1  1\n",
      "  1  1  1 -1 -1  1  1  1 -1 -1  1 -1 -1  1 -1 -1  1  1  1  1 -1 -1  1  1 -1\n",
      "  1  1 -1 -1 -1 -1  1  1 -1 -1 -1 -1 -1  1  1  1 -1 -1  1  1  1 -1  1  1  1\n",
      " -1  1  1  1]\n",
      "test_X:\n",
      " [6225 6210 6258 6180 6128 6150 6126 6079 6107 6186 6250 6228 6234 6300 6300\n",
      " 6225 6216 6339 6336 6236 6275 6180 6275 6194 6175 6125 6163 6138 6173 6107\n",
      " 6158 6126]\n",
      "test_y:\n",
      " [-1, 1, -1, -1, 1, -1, -1, 1, 1, 1, -1, 1, 1, -1, -1, -1, 1, -1, -1, 1, -1, 1, -1, -1, -1, 1, -1, 1, -1, 1, -1, -1]\n"
     ]
    }
   ],
   "source": [
    "import numpy as np\n",
    "train_X = np.array(train_X)\n",
    "test_X = np.array(test_X)\n",
    "print('len(train_X):', len(train_X))\n",
    "print('len(test_X):', len(test_X))\n",
    "print('len(train_y):', len(train_y))\n",
    "print('len(test_y):', len(test_y))\n",
    "print('train_X:\\n', train_X)\n",
    "print('train_y:\\n', train_y)\n",
    "print('test_X:\\n', test_X)\n",
    "print('test_y:\\n', test_y)"
   ]
  },
  {
   "cell_type": "markdown",
   "metadata": {},
   "source": [
    "# 4. 学習\n",
    "## RandomForest"
   ]
  },
  {
   "cell_type": "code",
   "execution_count": 21,
   "metadata": {
    "collapsed": false
   },
   "outputs": [
    {
     "data": {
      "text/plain": [
       "RandomForestClassifier(bootstrap=True, class_weight=None, criterion='gini',\n",
       "            max_depth=None, max_features='auto', max_leaf_nodes=None,\n",
       "            min_impurity_split=1e-07, min_samples_leaf=1,\n",
       "            min_samples_split=2, min_weight_fraction_leaf=0.0,\n",
       "            n_estimators=129, n_jobs=1, oob_score=False, random_state=0,\n",
       "            verbose=0, warm_start=False)"
      ]
     },
     "execution_count": 21,
     "metadata": {},
     "output_type": "execute_result"
    }
   ],
   "source": [
    "from sklearn.ensemble import RandomForestClassifier\n",
    "from sklearn.model_selection import cross_val_score\n",
    "forest = RandomForestClassifier(n_estimators=len(train_X), random_state=0)\n",
    "forest.fit(train_X.reshape(-1, 1), train_y)"
   ]
  },
  {
   "cell_type": "code",
   "execution_count": 32,
   "metadata": {
    "collapsed": false
   },
   "outputs": [
    {
     "name": "stdout",
     "output_type": "stream",
     "text": [
      "train_pred:\n",
      " [-1 -1 -1  1 -1  1 -1 -1  1  1 -1 -1 -1  1  1 -1  1 -1 -1 -1  1  1 -1  1 -1\n",
      "  1  1 -1  1 -1 -1  1  1  1 -1 -1 -1 -1  1  1 -1 -1 -1  1  1  1  1 -1  1 -1\n",
      " -1 -1 -1 -1  1 -1  1 -1 -1 -1  1 -1 -1 -1  1  1  1 -1 -1  1 -1 -1 -1  1  1\n",
      "  1  1  1 -1 -1  1  1  1 -1 -1  1 -1 -1  1 -1 -1  1  1  1  1 -1 -1  1  1 -1\n",
      "  1  1 -1 -1 -1 -1  1  1 -1 -1 -1 -1 -1  1  1  1 -1 -1  1  1  1 -1  1  1  1\n",
      " -1  1  1  1]\n",
      "test_pred:\n",
      " [-1 -1  1  1 -1 -1 -1  1 -1  1  1 -1 -1  1  1 -1 -1  1  1 -1  1  1  1  1  1\n",
      " -1 -1 -1 -1 -1  1 -1]\n"
     ]
    }
   ],
   "source": [
    "train_pred = forest.predict(train_X.reshape(-1, 1))\n",
    "print('train_pred:\\n', train_pred)\n",
    "test_pred = forest.predict(test_X.reshape(-1, 1))\n",
    "print('test_pred:\\n', test_pred)"
   ]
  },
  {
   "cell_type": "markdown",
   "metadata": {},
   "source": [
    "# 5. 評価"
   ]
  },
  {
   "cell_type": "code",
   "execution_count": 35,
   "metadata": {
    "collapsed": false
   },
   "outputs": [
    {
     "name": "stdout",
     "output_type": "stream",
     "text": [
      "train score: 0.992248062016\n",
      "test score: 0.3125\n"
     ]
    }
   ],
   "source": [
    "print('train score:', forest.score(train_X.reshape(-1, 1), train_y))\n",
    "print('test score:', forest.score(test_X.reshape(-1, 1), test_y))"
   ]
  },
  {
   "cell_type": "markdown",
   "metadata": {},
   "source": [
    "# 6. 予測"
   ]
  },
  {
   "cell_type": "code",
   "execution_count": 36,
   "metadata": {
    "collapsed": false
   },
   "outputs": [
    {
     "name": "stdout",
     "output_type": "stream",
     "text": [
      "predict: [-1]\n"
     ]
    }
   ],
   "source": [
    "print('predict:', forest.predict(data[-1]))"
   ]
  },
  {
   "cell_type": "code",
   "execution_count": null,
   "metadata": {
    "collapsed": true
   },
   "outputs": [],
   "source": []
  }
 ],
 "metadata": {
  "kernelspec": {
   "display_name": "Python 3",
   "language": "python",
   "name": "python3"
  },
  "language_info": {
   "codemirror_mode": {
    "name": "ipython",
    "version": 3
   },
   "file_extension": ".py",
   "mimetype": "text/x-python",
   "name": "python",
   "nbconvert_exporter": "python",
   "pygments_lexer": "ipython3",
   "version": "3.6.0"
  }
 },
 "nbformat": 4,
 "nbformat_minor": 2
}
