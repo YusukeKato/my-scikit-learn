{
 "cells": [
  {
   "cell_type": "markdown",
   "metadata": {},
   "source": [
    "# 株価の予測\n",
    "\n",
    "・機械学習を用いて株価を予測\n",
    "\n",
    "・データは調整後終値を使用\n",
    "\n",
    "・python\n",
    "\n",
    "・scikit-learn\n",
    "\n",
    "====== 手順 ======\n",
    "\n",
    "1. データを収集\n",
    "\n",
    "2. データの前処理\n",
    "\n",
    "3. 学習データとテストデータを作成\n",
    "\n",
    "4. 学習\n",
    "\n",
    "5. 評価\n",
    "\n",
    "6. 予測 <<<--- ココ"
   ]
  },
  {
   "cell_type": "markdown",
   "metadata": {},
   "source": [
    "# 1. データの収集"
   ]
  },
  {
   "cell_type": "markdown",
   "metadata": {},
   "source": [
    "# csvファイルの読み込み"
   ]
  },
  {
   "cell_type": "code",
   "execution_count": 289,
   "metadata": {
    "collapsed": true
   },
   "outputs": [],
   "source": [
    "import pandas as pd\n",
    "df = pd.read_csv('kabuka.csv')"
   ]
  },
  {
   "cell_type": "markdown",
   "metadata": {},
   "source": [
    "# データの可視化"
   ]
  },
  {
   "cell_type": "code",
   "execution_count": 290,
   "metadata": {
    "collapsed": false
   },
   "outputs": [
    {
     "data": {
      "text/html": [
       "<div>\n",
       "<table border=\"1\" class=\"dataframe\">\n",
       "  <thead>\n",
       "    <tr style=\"text-align: right;\">\n",
       "      <th></th>\n",
       "      <th>day</th>\n",
       "      <th>value</th>\n",
       "    </tr>\n",
       "  </thead>\n",
       "  <tbody>\n",
       "    <tr>\n",
       "      <th>0</th>\n",
       "      <td>2017/1/4</td>\n",
       "      <td>7097</td>\n",
       "    </tr>\n",
       "    <tr>\n",
       "      <th>1</th>\n",
       "      <td>2017/1/5</td>\n",
       "      <td>7049</td>\n",
       "    </tr>\n",
       "    <tr>\n",
       "      <th>2</th>\n",
       "      <td>2017/1/6</td>\n",
       "      <td>6930</td>\n",
       "    </tr>\n",
       "    <tr>\n",
       "      <th>3</th>\n",
       "      <td>2017/1/10</td>\n",
       "      <td>6861</td>\n",
       "    </tr>\n",
       "    <tr>\n",
       "      <th>4</th>\n",
       "      <td>2017/1/11</td>\n",
       "      <td>6912</td>\n",
       "    </tr>\n",
       "  </tbody>\n",
       "</table>\n",
       "</div>"
      ],
      "text/plain": [
       "         day  value\n",
       "0   2017/1/4   7097\n",
       "1   2017/1/5   7049\n",
       "2   2017/1/6   6930\n",
       "3  2017/1/10   6861\n",
       "4  2017/1/11   6912"
      ]
     },
     "execution_count": 290,
     "metadata": {},
     "output_type": "execute_result"
    }
   ],
   "source": [
    "df.head()"
   ]
  },
  {
   "cell_type": "code",
   "execution_count": 291,
   "metadata": {
    "collapsed": false
   },
   "outputs": [
    {
     "data": {
      "text/html": [
       "<div>\n",
       "<table border=\"1\" class=\"dataframe\">\n",
       "  <thead>\n",
       "    <tr style=\"text-align: right;\">\n",
       "      <th></th>\n",
       "      <th>day</th>\n",
       "      <th>value</th>\n",
       "    </tr>\n",
       "  </thead>\n",
       "  <tbody>\n",
       "    <tr>\n",
       "      <th>158</th>\n",
       "      <td>2017/8/23</td>\n",
       "      <td>6173</td>\n",
       "    </tr>\n",
       "    <tr>\n",
       "      <th>159</th>\n",
       "      <td>2017/8/24</td>\n",
       "      <td>6107</td>\n",
       "    </tr>\n",
       "    <tr>\n",
       "      <th>160</th>\n",
       "      <td>2017/8/25</td>\n",
       "      <td>6158</td>\n",
       "    </tr>\n",
       "    <tr>\n",
       "      <th>161</th>\n",
       "      <td>2017/8/28</td>\n",
       "      <td>6126</td>\n",
       "    </tr>\n",
       "    <tr>\n",
       "      <th>162</th>\n",
       "      <td>2017/8/29</td>\n",
       "      <td>6090</td>\n",
       "    </tr>\n",
       "  </tbody>\n",
       "</table>\n",
       "</div>"
      ],
      "text/plain": [
       "           day  value\n",
       "158  2017/8/23   6173\n",
       "159  2017/8/24   6107\n",
       "160  2017/8/25   6158\n",
       "161  2017/8/28   6126\n",
       "162  2017/8/29   6090"
      ]
     },
     "execution_count": 291,
     "metadata": {},
     "output_type": "execute_result"
    }
   ],
   "source": [
    "df.tail()"
   ]
  },
  {
   "cell_type": "code",
   "execution_count": 292,
   "metadata": {
    "collapsed": false
   },
   "outputs": [
    {
     "data": {
      "text/plain": [
       "[<matplotlib.lines.Line2D at 0x1bb945736d8>]"
      ]
     },
     "execution_count": 292,
     "metadata": {},
     "output_type": "execute_result"
    },
    {
     "data": {
      "image/png": "[encoded data removed]",
      "text/plain": [
       "<matplotlib.figure.Figure at 0x1bb944ecfd0>"
      ]
     },
     "metadata": {},
     "output_type": "display_data"
    }
   ],
   "source": [
    "import matplotlib.pyplot as plt\n",
    "import numpy as np\n",
    "%matplotlib inline\n",
    "plt.plot(np.arange(len(df['day'])), df['value'])"
   ]
  },
  {
   "cell_type": "markdown",
   "metadata": {},
   "source": [
    "# 2. データの前処理\n",
    "\n",
    "前日との比のデータ -> train_X\n",
    "\n",
    "1term後、翌日が前日と比べて上がったか(1)下がったか(0)のデータ -> train_Y"
   ]
  },
  {
   "cell_type": "code",
   "execution_count": 293,
   "metadata": {
    "collapsed": false
   },
   "outputs": [
    {
     "name": "stdout",
     "output_type": "stream",
     "text": [
      "data type: <class 'numpy.ndarray'>\n",
      "data:\n",
      " [-0.00676342 -0.01688183 -0.00995671  0.00743332 -0.00969329  0.00540541\n",
      " -0.00799186 -0.01581954  0.00253014  0.01766627 -0.00787746 -0.01632113\n",
      " -0.01659193  0.01930385  0.00864897 -0.00887049  0.00014916 -0.01804623\n",
      " -0.00577157 -0.01772075  0.00233281  0.00744763 -0.02263977  0.0061456\n",
      " -0.02036022  0.03053557  0.00698107 -0.0057002   0.00573288 -0.00523802\n",
      " -0.00882763  0.005       0.00715174  0.00385922 -0.00076888 -0.00769468\n",
      " -0.00651365 -0.00640025  0.01586803  0.00061862 -0.00231839 -0.00170411\n",
      " -0.00217256 -0.00933126  0.0100471   0.01336649  0.00153374 -0.01163859\n",
      "  0.0032538  -0.00339768 -0.01177747 -0.00062725 -0.03326534 -0.00016231\n",
      "  0.0112013  -0.0113983   0.00974342 -0.0151174  -0.0021228  -0.01129111\n",
      "  0.00066203 -0.01025471 -0.01253342 -0.0167541   0.00378657  0.01097394\n",
      "  0.00237449 -0.01895093 -0.01155571  0.0116908  -0.00672646 -0.00034728\n",
      " -0.0107695   0.01035996  0.01755301  0.00546541  0.01919484  0.02566667\n",
      " -0.00601235 -0.01340526  0.0011599   0.01671632  0.0149764  -0.01603849\n",
      " -0.00880196  0.00690676 -0.01241222 -0.00628411  0.01397903 -0.00968324\n",
      " -0.01723566  0.00590219  0.00536463  0.00050025  0.00016667 -0.00266622\n",
      " -0.00735171  0.00488133  0.00184255 -0.00819261  0.0096089   0.0171982\n",
      " -0.02035456 -0.0097185  -0.00135364 -0.01626567  0.00551154  0.00719424\n",
      " -0.00102041 -0.00255363 -0.01109404  0.         -0.00120815  0.00380162\n",
      "  0.00533655  0.00633562 -0.00289263 -0.00375427  0.00650908  0.00476515\n",
      "  0.00101626 -0.00287648  0.00967249  0.01848739  0.01551155 -0.00324992\n",
      "  0.00374959  0.0048725   0.01228382 -0.00606738 -0.00240964  0.00772947\n",
      " -0.01246405 -0.00841424  0.00359008 -0.00390244 -0.00767222  0.00460602\n",
      "  0.01293598  0.01034594 -0.00352     0.00096339  0.0105871   0.\n",
      " -0.01190476 -0.00144578  0.01978764 -0.00047326 -0.01578283  0.00625401\n",
      " -0.01513944  0.01537217 -0.01290837 -0.00306748 -0.00809717  0.00620408\n",
      " -0.00405647  0.00570218 -0.01069172  0.00835107 -0.00519649 -0.00587659]\n",
      "\n",
      "length: 162\n",
      "div: 129\n",
      "\n",
      "train_data:\n",
      " [-0.00676342 -0.01688183 -0.00995671  0.00743332 -0.00969329  0.00540541\n",
      " -0.00799186 -0.01581954  0.00253014  0.01766627 -0.00787746 -0.01632113\n",
      " -0.01659193  0.01930385  0.00864897 -0.00887049  0.00014916 -0.01804623\n",
      " -0.00577157 -0.01772075  0.00233281  0.00744763 -0.02263977  0.0061456\n",
      " -0.02036022  0.03053557  0.00698107 -0.0057002   0.00573288 -0.00523802\n",
      " -0.00882763  0.005       0.00715174  0.00385922 -0.00076888 -0.00769468\n",
      " -0.00651365 -0.00640025  0.01586803  0.00061862 -0.00231839 -0.00170411\n",
      " -0.00217256 -0.00933126  0.0100471   0.01336649  0.00153374 -0.01163859\n",
      "  0.0032538  -0.00339768 -0.01177747 -0.00062725 -0.03326534 -0.00016231\n",
      "  0.0112013  -0.0113983   0.00974342 -0.0151174  -0.0021228  -0.01129111\n",
      "  0.00066203 -0.01025471 -0.01253342 -0.0167541   0.00378657  0.01097394\n",
      "  0.00237449 -0.01895093 -0.01155571  0.0116908  -0.00672646 -0.00034728\n",
      " -0.0107695   0.01035996  0.01755301  0.00546541  0.01919484  0.02566667\n",
      " -0.00601235 -0.01340526  0.0011599   0.01671632  0.0149764  -0.01603849\n",
      " -0.00880196  0.00690676 -0.01241222 -0.00628411  0.01397903 -0.00968324\n",
      " -0.01723566  0.00590219  0.00536463  0.00050025  0.00016667 -0.00266622\n",
      " -0.00735171  0.00488133  0.00184255 -0.00819261  0.0096089   0.0171982\n",
      " -0.02035456 -0.0097185  -0.00135364 -0.01626567  0.00551154  0.00719424\n",
      " -0.00102041 -0.00255363 -0.01109404  0.         -0.00120815  0.00380162\n",
      "  0.00533655  0.00633562 -0.00289263 -0.00375427  0.00650908  0.00476515\n",
      "  0.00101626 -0.00287648  0.00967249  0.01848739  0.01551155 -0.00324992\n",
      "  0.00374959  0.0048725   0.01228382]\n",
      "\n",
      "test_data:\n",
      " [-0.00606738 -0.00240964  0.00772947 -0.01246405 -0.00841424  0.00359008\n",
      " -0.00390244 -0.00767222  0.00460602  0.01293598  0.01034594 -0.00352\n",
      "  0.00096339  0.0105871   0.         -0.01190476 -0.00144578  0.01978764\n",
      " -0.00047326 -0.01578283  0.00625401 -0.01513944  0.01537217 -0.01290837\n",
      " -0.00306748 -0.00809717  0.00620408 -0.00405647  0.00570218 -0.01069172\n",
      "  0.00835107 -0.00519649 -0.00587659]\n"
     ]
    }
   ],
   "source": [
    "# 前日との比率\n",
    "data = df['value'].pct_change().values\n",
    "print('data type:', type(data))\n",
    "data = np.delete(data, 0)\n",
    "\n",
    "print('data:\\n', data)\n",
    "\n",
    "# 8割を学習用、2割をテスト用\n",
    "# div が区切りの番号\n",
    "print('\\nlength:', len(data))\n",
    "div = int(len(data) * 0.8)\n",
    "print('div:', div)\n",
    "\n",
    "train_data = data[0:div]\n",
    "print('\\ntrain_data:\\n', train_data)\n",
    "test_data = data[div:]\n",
    "print('\\ntest_data:\\n', test_data)"
   ]
  },
  {
   "cell_type": "markdown",
   "metadata": {},
   "source": [
    "# 3. 学習データとテストデータの作成"
   ]
  },
  {
   "cell_type": "code",
   "execution_count": 294,
   "metadata": {
    "collapsed": false
   },
   "outputs": [],
   "source": [
    "term = 14\n",
    "train_X = []\n",
    "train_y = []\n",
    "for s in range(len(train_data)-term):\n",
    "    f = s + term\n",
    "    train_X.append(train_data[s:f])\n",
    "    if train_data[f] > 0:\n",
    "        train_y.append(1)\n",
    "    else:\n",
    "        train_y.append(-1)"
   ]
  },
  {
   "cell_type": "code",
   "execution_count": 295,
   "metadata": {
    "collapsed": false
   },
   "outputs": [],
   "source": [
    "test_X = []\n",
    "test_y = []\n",
    "for s in range(len(test_data)-term):\n",
    "    f = s + term\n",
    "    test_X.append(test_data[s:f])\n",
    "    if test_data[f] > 0:\n",
    "        test_y.append(1)\n",
    "    else:\n",
    "        test_y.append(-1)"
   ]
  },
  {
   "cell_type": "code",
   "execution_count": 296,
   "metadata": {
    "collapsed": false
   },
   "outputs": [
    {
     "data": {
      "text/plain": [
       "'\\nfor i in range(len(train_X)):\\n    train_X[i] = (1 + train_X[i]).cumprod()\\nfor j in range(len(test_X)):\\n    test_X[j] = (1 + test_X[j]).cumprod()\\n'"
      ]
     },
     "execution_count": 296,
     "metadata": {},
     "output_type": "execute_result"
    }
   ],
   "source": [
    "'''\n",
    "for i in range(len(train_X)):\n",
    "    train_X[i] = (1 + train_X[i]).cumprod()\n",
    "for j in range(len(test_X)):\n",
    "    test_X[j] = (1 + test_X[j]).cumprod()\n",
    "'''"
   ]
  },
  {
   "cell_type": "code",
   "execution_count": 297,
   "metadata": {
    "collapsed": false
   },
   "outputs": [
    {
     "name": "stdout",
     "output_type": "stream",
     "text": [
      "len(train_X): 115\n",
      "len(train_y): 115\n",
      "len(test_X): 19\n",
      "len(test_y): 19\n"
     ]
    }
   ],
   "source": [
    "print('len(train_X):', len(train_X))\n",
    "print('len(train_y):', len(train_y))\n",
    "print('len(test_X):', len(test_X))\n",
    "print('len(test_y):', len(test_y))"
   ]
  },
  {
   "cell_type": "code",
   "execution_count": 298,
   "metadata": {
    "collapsed": false
   },
   "outputs": [
    {
     "name": "stdout",
     "output_type": "stream",
     "text": [
      "train_X:\n",
      " [[-0.00676342 -0.01688183 -0.00995671 ..., -0.01632113 -0.01659193\n",
      "   0.01930385]\n",
      " [-0.01688183 -0.00995671  0.00743332 ..., -0.01659193  0.01930385\n",
      "   0.00864897]\n",
      " [-0.00995671  0.00743332 -0.00969329 ...,  0.01930385  0.00864897\n",
      "  -0.00887049]\n",
      " ..., \n",
      " [-0.00120815  0.00380162  0.00533655 ...,  0.01848739  0.01551155\n",
      "  -0.00324992]\n",
      " [ 0.00380162  0.00533655  0.00633562 ...,  0.01551155 -0.00324992\n",
      "   0.00374959]\n",
      " [ 0.00533655  0.00633562 -0.00289263 ..., -0.00324992  0.00374959\n",
      "   0.0048725 ]]\n",
      "train_y:\n",
      " [1, -1, 1, -1, -1, -1, 1, 1, -1, 1, -1, 1, 1, -1, 1, -1, -1, 1, 1, 1, -1, -1, -1, -1, 1, 1, -1, -1, -1, -1, 1, 1, 1, -1, 1, -1, -1, -1, -1, -1, 1, -1, 1, -1, -1, -1, 1, -1, -1, -1, 1, 1, 1, -1, -1, 1, -1, -1, -1, 1, 1, 1, 1, 1, -1, -1, 1, 1, 1, -1, -1, 1, -1, -1, 1, -1, -1, 1, 1, 1, 1, -1, -1, 1, 1, -1, 1, 1, -1, -1, -1, -1, 1, 1, -1, -1, -1, -1, -1, 1, 1, 1, -1, -1, 1, 1, 1, -1, 1, 1, 1, -1, 1, 1, 1]\n",
      "test_X:\n",
      " [[-0.00606738 -0.00240964  0.00772947 -0.01246405 -0.00841424  0.00359008\n",
      "  -0.00390244 -0.00767222  0.00460602  0.01293598  0.01034594 -0.00352\n",
      "   0.00096339  0.0105871 ]\n",
      " [-0.00240964  0.00772947 -0.01246405 -0.00841424  0.00359008 -0.00390244\n",
      "  -0.00767222  0.00460602  0.01293598  0.01034594 -0.00352     0.00096339\n",
      "   0.0105871   0.        ]\n",
      " [ 0.00772947 -0.01246405 -0.00841424  0.00359008 -0.00390244 -0.00767222\n",
      "   0.00460602  0.01293598  0.01034594 -0.00352     0.00096339  0.0105871\n",
      "   0.         -0.01190476]\n",
      " [-0.01246405 -0.00841424  0.00359008 -0.00390244 -0.00767222  0.00460602\n",
      "   0.01293598  0.01034594 -0.00352     0.00096339  0.0105871   0.\n",
      "  -0.01190476 -0.00144578]\n",
      " [-0.00841424  0.00359008 -0.00390244 -0.00767222  0.00460602  0.01293598\n",
      "   0.01034594 -0.00352     0.00096339  0.0105871   0.         -0.01190476\n",
      "  -0.00144578  0.01978764]\n",
      " [ 0.00359008 -0.00390244 -0.00767222  0.00460602  0.01293598  0.01034594\n",
      "  -0.00352     0.00096339  0.0105871   0.         -0.01190476 -0.00144578\n",
      "   0.01978764 -0.00047326]\n",
      " [-0.00390244 -0.00767222  0.00460602  0.01293598  0.01034594 -0.00352\n",
      "   0.00096339  0.0105871   0.         -0.01190476 -0.00144578  0.01978764\n",
      "  -0.00047326 -0.01578283]\n",
      " [-0.00767222  0.00460602  0.01293598  0.01034594 -0.00352     0.00096339\n",
      "   0.0105871   0.         -0.01190476 -0.00144578  0.01978764 -0.00047326\n",
      "  -0.01578283  0.00625401]\n",
      " [ 0.00460602  0.01293598  0.01034594 -0.00352     0.00096339  0.0105871\n",
      "   0.         -0.01190476 -0.00144578  0.01978764 -0.00047326 -0.01578283\n",
      "   0.00625401 -0.01513944]\n",
      " [ 0.01293598  0.01034594 -0.00352     0.00096339  0.0105871   0.\n",
      "  -0.01190476 -0.00144578  0.01978764 -0.00047326 -0.01578283  0.00625401\n",
      "  -0.01513944  0.01537217]\n",
      " [ 0.01034594 -0.00352     0.00096339  0.0105871   0.         -0.01190476\n",
      "  -0.00144578  0.01978764 -0.00047326 -0.01578283  0.00625401 -0.01513944\n",
      "   0.01537217 -0.01290837]\n",
      " [-0.00352     0.00096339  0.0105871   0.         -0.01190476 -0.00144578\n",
      "   0.01978764 -0.00047326 -0.01578283  0.00625401 -0.01513944  0.01537217\n",
      "  -0.01290837 -0.00306748]\n",
      " [ 0.00096339  0.0105871   0.         -0.01190476 -0.00144578  0.01978764\n",
      "  -0.00047326 -0.01578283  0.00625401 -0.01513944  0.01537217 -0.01290837\n",
      "  -0.00306748 -0.00809717]\n",
      " [ 0.0105871   0.         -0.01190476 -0.00144578  0.01978764 -0.00047326\n",
      "  -0.01578283  0.00625401 -0.01513944  0.01537217 -0.01290837 -0.00306748\n",
      "  -0.00809717  0.00620408]\n",
      " [ 0.         -0.01190476 -0.00144578  0.01978764 -0.00047326 -0.01578283\n",
      "   0.00625401 -0.01513944  0.01537217 -0.01290837 -0.00306748 -0.00809717\n",
      "   0.00620408 -0.00405647]\n",
      " [-0.01190476 -0.00144578  0.01978764 -0.00047326 -0.01578283  0.00625401\n",
      "  -0.01513944  0.01537217 -0.01290837 -0.00306748 -0.00809717  0.00620408\n",
      "  -0.00405647  0.00570218]\n",
      " [-0.00144578  0.01978764 -0.00047326 -0.01578283  0.00625401 -0.01513944\n",
      "   0.01537217 -0.01290837 -0.00306748 -0.00809717  0.00620408 -0.00405647\n",
      "   0.00570218 -0.01069172]\n",
      " [ 0.01978764 -0.00047326 -0.01578283  0.00625401 -0.01513944  0.01537217\n",
      "  -0.01290837 -0.00306748 -0.00809717  0.00620408 -0.00405647  0.00570218\n",
      "  -0.01069172  0.00835107]\n",
      " [-0.00047326 -0.01578283  0.00625401 -0.01513944  0.01537217 -0.01290837\n",
      "  -0.00306748 -0.00809717  0.00620408 -0.00405647  0.00570218 -0.01069172\n",
      "   0.00835107 -0.00519649]]\n",
      "test_y:\n",
      " [-1, -1, -1, 1, -1, -1, 1, -1, 1, -1, -1, -1, 1, -1, 1, -1, 1, -1, -1]\n"
     ]
    }
   ],
   "source": [
    "train_X = np.array(train_X)\n",
    "test_X = np.array(test_X)\n",
    "print('train_X:\\n', train_X)\n",
    "print('train_y:\\n', train_y)\n",
    "print('test_X:\\n', test_X)\n",
    "print('test_y:\\n', test_y)"
   ]
  },
  {
   "cell_type": "markdown",
   "metadata": {},
   "source": [
    "# 4. 学習    5. 評価"
   ]
  },
  {
   "cell_type": "markdown",
   "metadata": {},
   "source": [
    "# DecisionTree（だめ）"
   ]
  },
  {
   "cell_type": "code",
   "execution_count": 299,
   "metadata": {
    "collapsed": false
   },
   "outputs": [
    {
     "data": {
      "text/plain": [
       "DecisionTreeRegressor(criterion='mse', max_depth=3, max_features=None,\n",
       "           max_leaf_nodes=None, min_impurity_split=1e-07,\n",
       "           min_samples_leaf=1, min_samples_split=2,\n",
       "           min_weight_fraction_leaf=0.0, presort=False, random_state=None,\n",
       "           splitter='best')"
      ]
     },
     "execution_count": 299,
     "metadata": {},
     "output_type": "execute_result"
    }
   ],
   "source": [
    "from sklearn.tree import DecisionTreeRegressor\n",
    "tree = DecisionTreeRegressor(max_depth=3)\n",
    "tree.fit(train_X, train_y)"
   ]
  },
  {
   "cell_type": "code",
   "execution_count": 300,
   "metadata": {
    "collapsed": false
   },
   "outputs": [
    {
     "name": "stdout",
     "output_type": "stream",
     "text": [
      "train_pred:\n",
      " [ 0.33333333  0.41176471  0.41176471 -0.52       -0.89473684 -0.89473684\n",
      "  0.3         1.         -0.89473684 -0.52       -0.89473684  0.41176471\n",
      "  0.41176471  0.3        -0.52       -0.89473684 -0.52        1.          0.3\n",
      "  1.          0.3        -0.52        0.41176471 -0.89473684  0.41176471\n",
      "  0.3         0.3        -0.52       -0.52       -0.52        0.3         0.3\n",
      "  0.3         0.3         0.3        -0.52       -0.89473684  0.3         0.3\n",
      " -0.52       -0.89473684  0.3        -0.52       -0.89473684 -0.52\n",
      " -0.89473684  0.3        -1.         -0.89473684 -0.52        1.         -0.52\n",
      "  0.41176471 -0.52       -0.89473684  0.41176471  0.33333333  0.41176471\n",
      "  0.3         1.          0.33333333  0.41176471  0.41176471  1.         -0.52\n",
      " -0.89473684  0.3         1.          1.          0.3        -0.52       -0.52\n",
      " -1.          0.3         0.3        -0.52       -0.89473684  0.3        -0.52\n",
      "  1.          0.3        -0.52       -0.89473684  0.41176471  0.3         0.3\n",
      "  0.41176471  0.3        -0.52        0.3         0.41176471 -0.52        0.3\n",
      "  0.3        -0.52       -0.89473684 -0.89473684 -0.52       -0.89473684\n",
      "  0.3         0.3         0.3         0.41176471 -0.89473684  0.3\n",
      "  0.41176471  0.3         0.3         0.3         0.3         0.41176471\n",
      "  0.3         0.3         0.3         0.3       ]\n",
      "test_pred:\n",
      " [ 0.3         0.3         0.3         1.          0.3         0.3         0.3\n",
      " -0.52       -0.89473684  0.3         0.3        -0.52       -0.89473684\n",
      " -0.52       -0.89473684  0.41176471 -0.89473684 -0.52        0.3       ]\n"
     ]
    }
   ],
   "source": [
    "train_pred = tree.predict(train_X)\n",
    "test_pred = tree.predict(test_X)\n",
    "print('train_pred:\\n', train_pred)\n",
    "print('test_pred:\\n', test_pred)"
   ]
  },
  {
   "cell_type": "code",
   "execution_count": 301,
   "metadata": {
    "collapsed": false
   },
   "outputs": [
    {
     "name": "stdout",
     "output_type": "stream",
     "text": [
      "train score: 0.345521674325\n",
      "test score: -0.905163517224\n"
     ]
    }
   ],
   "source": [
    "print('train score:', tree.score(train_X, train_y))\n",
    "print('test score:', tree.score(test_X, test_y))"
   ]
  },
  {
   "cell_type": "code",
   "execution_count": 302,
   "metadata": {
    "collapsed": false
   },
   "outputs": [
    {
     "name": "stdout",
     "output_type": "stream",
     "text": [
      "test_y:\n",
      " [-1, -1, -1, 1, -1, -1, 1, -1, 1, -1, -1, -1, 1, -1, 1, -1, 1, -1, -1]\n",
      "test_pred:\n",
      " [ 0.3         0.3         0.3         1.          0.3         0.3         0.3\n",
      " -0.52       -0.89473684  0.3         0.3        -0.52       -0.89473684\n",
      " -0.52       -0.89473684  0.41176471 -0.89473684 -0.52        0.3       ]\n"
     ]
    }
   ],
   "source": [
    "print('test_y:\\n', test_y)\n",
    "print('test_pred:\\n', test_pred)"
   ]
  },
  {
   "cell_type": "markdown",
   "metadata": {},
   "source": [
    "# RandomForest（だめ）"
   ]
  },
  {
   "cell_type": "code",
   "execution_count": 303,
   "metadata": {
    "collapsed": false
   },
   "outputs": [
    {
     "data": {
      "text/plain": [
       "RandomForestRegressor(bootstrap=True, criterion='mse', max_depth=None,\n",
       "           max_features='auto', max_leaf_nodes=None,\n",
       "           min_impurity_split=1e-07, min_samples_leaf=1,\n",
       "           min_samples_split=2, min_weight_fraction_leaf=0.0,\n",
       "           n_estimators=10, n_jobs=1, oob_score=False, random_state=1,\n",
       "           verbose=0, warm_start=False)"
      ]
     },
     "execution_count": 303,
     "metadata": {},
     "output_type": "execute_result"
    }
   ],
   "source": [
    "from sklearn.ensemble import RandomForestRegressor\n",
    "forest = RandomForestRegressor(random_state=1)\n",
    "forest.fit(train_X, train_y)"
   ]
  },
  {
   "cell_type": "code",
   "execution_count": 304,
   "metadata": {
    "collapsed": false
   },
   "outputs": [
    {
     "name": "stdout",
     "output_type": "stream",
     "text": [
      "train_pred:\n",
      " [ 0.2 -0.6  0.6 -1.  -0.8 -0.4  0.6  1.  -0.8  0.8 -0.8  0.6  0.8 -1.   0.8\n",
      "  0.  -0.8  0.8  0.4  0.4 -1.  -0.6 -0.4 -0.4  0.8  0.  -1.  -0.6 -0.8 -0.8\n",
      "  0.4  0.4  0.2 -0.8  0.2 -1.  -0.6 -0.2 -0.8 -0.8  0.2 -0.4  1.  -0.2 -0.6\n",
      " -0.6  0.6 -0.8 -0.4 -0.2  0.4  0.6  0.6 -0.6 -0.8  0.8 -0.6 -0.6 -0.6  0.6\n",
      "  0.4  0.6  0.8  0.8 -0.8 -1.   1.   0.8 -0.2 -1.  -0.8  0.6 -0.6 -1.   1.\n",
      " -0.4 -1.   0.6  0.8  0.6  0.6 -0.6 -0.8  0.4  0.8 -0.6  0.8  0.6 -0.8 -0.6\n",
      " -0.2 -1.   0.4  1.  -1.  -0.6 -0.4 -0.8 -0.6  0.8  0.2  0.4 -1.  -0.6  0.4\n",
      "  1.   0.2 -0.8  0.2  0.6  0.6 -0.6  0.6  0.8  0.2]\n",
      "test_pred:\n",
      " [ 0.2 -0.6 -0.6  0.6 -0.2 -0.8  0.2  0.8 -0.2  0.  -0.6  0.   0.2 -0.4 -0.2\n",
      "  0.6 -0.2 -0.6  0. ]\n"
     ]
    }
   ],
   "source": [
    "train_pred = forest.predict(train_X)\n",
    "test_pred = forest.predict(test_X)\n",
    "print('train_pred:\\n', train_pred)\n",
    "print('test_pred:\\n', test_pred)"
   ]
  },
  {
   "cell_type": "code",
   "execution_count": 305,
   "metadata": {
    "collapsed": false
   },
   "outputs": [
    {
     "name": "stdout",
     "output_type": "stream",
     "text": [
      "train score: 0.791858353511\n",
      "test score: -0.0766666666667\n"
     ]
    }
   ],
   "source": [
    "print('train score:', forest.score(train_X, train_y))\n",
    "print('test score:', forest.score(test_X, test_y))"
   ]
  },
  {
   "cell_type": "markdown",
   "metadata": {},
   "source": [
    "# 線形回帰モデル（だめ）"
   ]
  },
  {
   "cell_type": "code",
   "execution_count": 306,
   "metadata": {
    "collapsed": false
   },
   "outputs": [
    {
     "name": "stdout",
     "output_type": "stream",
     "text": [
      "[ 0.46989036  0.14713003  0.22116895 -0.37127706 -0.43906142  0.24980574\n",
      "  0.45879986  0.92949362 -0.45627346 -0.78776334  0.02062767 -0.34952864\n",
      "  0.81659407 -1.1067207   0.11641333 -0.31930174 -0.06428666  0.53635105\n",
      "  0.86588342  0.33900808 -0.2316878  -0.36857429 -0.09402563  0.08216806\n",
      "  0.40124972 -0.15430714 -0.38825511 -0.06392759 -0.55854621  0.00227718\n",
      "  0.21706732  0.38778405 -0.31112944 -0.30948813 -0.32379025  0.13000999\n",
      "  0.06745145  0.47970828  0.05728461 -0.2662956   0.5013229  -0.43400478\n",
      " -0.18287906 -0.01206717 -1.08075159 -0.17855298 -0.05581931  0.74364296\n",
      " -0.15293493  0.33726906 -0.20131259  0.31536397  0.21269817 -0.31974537\n",
      " -0.59376532  0.0524661  -0.02726057  0.33013899  0.55571988 -0.21493889\n",
      " -0.05285961 -0.26728352  0.14852929  0.17085185 -0.48569496 -0.62623224\n",
      "  0.49586963  0.92877382  0.6725343   0.08386326 -0.23033244 -0.15090348\n",
      " -0.21412074 -0.27643226  0.31881178 -0.06977828 -1.05189536 -0.52162412\n",
      "  0.08443308  0.00865678  0.0371862  -0.46950958 -0.49522898  0.17617032\n",
      "  0.30137553 -0.05467396  0.34470354  0.04479266 -0.59930556 -0.17124096\n",
      "  0.63796    -0.18142512  0.13257692  0.51633811 -0.31251781 -0.37580062\n",
      " -0.36386752 -0.46542091  0.20493677  0.32391161 -0.00355995 -0.34842253\n",
      "  0.07462491 -0.30756761  0.10729948  0.36335631 -0.01019167 -0.00475346\n",
      " -0.07421881  0.02993114 -0.04163612 -0.15961724 -0.25993539 -0.01047284\n",
      " -0.1774798 ]\n",
      "[ 0.13863354  0.09549704  0.2241084   0.51774388  0.0900134  -0.42533175\n",
      "  0.07844116  0.07441488 -0.49841419  0.3680532  -0.55076045  0.43887697\n",
      " -0.61225277 -0.05130714 -0.33849969  0.52827086 -0.59817579 -0.11742099\n",
      " -0.36187505]\n"
     ]
    }
   ],
   "source": [
    "from sklearn.linear_model import LinearRegression\n",
    "from sklearn.cross_validation import train_test_split\n",
    "#X_train, X_test, y_train, y_test = train_test_split(train_X, train_y, test_size=0.3, random_state=0)\n",
    "slr = LinearRegression()\n",
    "slr.fit(train_X, train_y)\n",
    "y_train_pred = slr.predict(train_X)\n",
    "y_test_pred = slr.predict(test_X)\n",
    "print(y_train_pred)\n",
    "print(y_test_pred)"
   ]
  },
  {
   "cell_type": "code",
   "execution_count": 307,
   "metadata": {
    "collapsed": false
   },
   "outputs": [
    {
     "name": "stdout",
     "output_type": "stream",
     "text": [
      "R^2 train: 0.157, test: -0.553\n"
     ]
    }
   ],
   "source": [
    "from sklearn.metrics import r2_score\n",
    "print('R^2 train: %.3f, test: %.3f' % (r2_score(train_y, y_train_pred),\n",
    "                                       r2_score(test_y, y_test_pred)))"
   ]
  },
  {
   "cell_type": "markdown",
   "metadata": {},
   "source": [
    "# 6. 予測\n",
    "## RandomForest（まあまあ）"
   ]
  },
  {
   "cell_type": "code",
   "execution_count": 308,
   "metadata": {
    "collapsed": false
   },
   "outputs": [
    {
     "data": {
      "text/plain": [
       "RandomForestClassifier(bootstrap=True, class_weight=None, criterion='gini',\n",
       "            max_depth=None, max_features='auto', max_leaf_nodes=None,\n",
       "            min_impurity_split=1e-07, min_samples_leaf=1,\n",
       "            min_samples_split=2, min_weight_fraction_leaf=0.0,\n",
       "            n_estimators=115, n_jobs=1, oob_score=False, random_state=0,\n",
       "            verbose=0, warm_start=False)"
      ]
     },
     "execution_count": 308,
     "metadata": {},
     "output_type": "execute_result"
    }
   ],
   "source": [
    "from sklearn.ensemble import RandomForestClassifier\n",
    "from sklearn.model_selection import cross_val_score\n",
    "forest2 = RandomForestClassifier(n_estimators=len(train_X), random_state=0)\n",
    "forest2.fit(train_X, train_y)"
   ]
  },
  {
   "cell_type": "code",
   "execution_count": 310,
   "metadata": {
    "collapsed": false
   },
   "outputs": [
    {
     "name": "stdout",
     "output_type": "stream",
     "text": [
      "train score: 1.0\n",
      "test score: 0.578947368421\n"
     ]
    }
   ],
   "source": [
    "print('train score:', forest2.score(train_X, train_y))\n",
    "print('test score:', forest2.score(test_X, test_y))"
   ]
  },
  {
   "cell_type": "code",
   "execution_count": 309,
   "metadata": {
    "collapsed": false
   },
   "outputs": [
    {
     "name": "stdout",
     "output_type": "stream",
     "text": [
      "[-0.00676342 -0.01688183 -0.00995671  0.00743332 -0.00969329  0.00540541\n",
      " -0.00799186 -0.01581954  0.00253014  0.01766627 -0.00787746 -0.01632113\n",
      " -0.01659193  0.01930385]\n",
      "[-0.00047326 -0.01578283  0.00625401 -0.01513944  0.01537217 -0.01290837\n",
      " -0.00306748 -0.00809717  0.00620408 -0.00405647  0.00570218 -0.01069172\n",
      "  0.00835107 -0.00519649]\n",
      "predict: [1]\n"
     ]
    },
    {
     "name": "stderr",
     "output_type": "stream",
     "text": [
      "C:\\Program Files\\Anaconda3\\lib\\site-packages\\sklearn\\utils\\validation.py:395: DeprecationWarning: Passing 1d arrays as data is deprecated in 0.17 and will raise ValueError in 0.19. Reshape your data either using X.reshape(-1, 1) if your data has a single feature or X.reshape(1, -1) if it contains a single sample.\n",
      "  DeprecationWarning)\n"
     ]
    }
   ],
   "source": [
    "data_pred = test_X[-1][-14:]\n",
    "print(train_X[0])\n",
    "print(data_pred)\n",
    "print('predict:', forest2.predict(data_pred))"
   ]
  },
  {
   "cell_type": "code",
   "execution_count": null,
   "metadata": {
    "collapsed": true
   },
   "outputs": [],
   "source": []
  }
 ],
 "metadata": {
  "kernelspec": {
   "display_name": "Python 3",
   "language": "python",
   "name": "python3"
  },
  "language_info": {
   "codemirror_mode": {
    "name": "ipython",
    "version": 3
   },
   "file_extension": ".py",
   "mimetype": "text/x-python",
   "name": "python",
   "nbconvert_exporter": "python",
   "pygments_lexer": "ipython3",
   "version": "3.6.0"
  }
 },
 "nbformat": 4,
 "nbformat_minor": 2
}
